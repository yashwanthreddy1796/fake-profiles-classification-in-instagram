{
 "cells": [
  {
   "cell_type": "code",
   "execution_count": 520,
   "id": "4878f3d4",
   "metadata": {},
   "outputs": [
    {
     "name": "stdout",
     "output_type": "stream",
     "text": [
      "Requirement already satisfied: tensorflow==2.6.1 in c:\\users\\yashu\\anaconda3\\lib\\site-packages (2.6.1)\n",
      "Requirement already satisfied: absl-py~=0.10 in c:\\users\\yashu\\anaconda3\\lib\\site-packages (from tensorflow==2.6.1) (0.15.0)\n",
      "Requirement already satisfied: astunparse~=1.6.3 in c:\\users\\yashu\\anaconda3\\lib\\site-packages (from tensorflow==2.6.1) (1.6.3)\n",
      "Requirement already satisfied: gast==0.4.0 in c:\\users\\yashu\\anaconda3\\lib\\site-packages (from tensorflow==2.6.1) (0.4.0)\n",
      "Requirement already satisfied: opt-einsum~=3.3.0 in c:\\users\\yashu\\anaconda3\\lib\\site-packages (from tensorflow==2.6.1) (3.3.0)\n",
      "Requirement already satisfied: termcolor~=1.1.0 in c:\\users\\yashu\\anaconda3\\lib\\site-packages (from tensorflow==2.6.1) (1.1.0)\n",
      "Requirement already satisfied: clang~=5.0 in c:\\users\\yashu\\anaconda3\\lib\\site-packages (from tensorflow==2.6.1) (5.0)\n",
      "Requirement already satisfied: tensorflow-estimator<2.7 in c:\\users\\yashu\\anaconda3\\lib\\site-packages (from tensorflow==2.6.1) (2.6.0)\n",
      "Requirement already satisfied: wrapt~=1.12.1 in c:\\users\\yashu\\anaconda3\\lib\\site-packages (from tensorflow==2.6.1) (1.12.1)\n",
      "Requirement already satisfied: tensorboard~=2.6 in c:\\users\\yashu\\anaconda3\\lib\\site-packages (from tensorflow==2.6.1) (2.6.0)\n",
      "Requirement already satisfied: google-pasta~=0.2 in c:\\users\\yashu\\anaconda3\\lib\\site-packages (from tensorflow==2.6.1) (0.2.0)\n",
      "Requirement already satisfied: grpcio<2.0,>=1.37.0 in c:\\users\\yashu\\anaconda3\\lib\\site-packages (from tensorflow==2.6.1) (1.42.0)\n",
      "Requirement already satisfied: typing-extensions~=3.7.4 in c:\\users\\yashu\\anaconda3\\lib\\site-packages (from tensorflow==2.6.1) (3.7.4.3)\n",
      "Requirement already satisfied: h5py~=3.1.0 in c:\\users\\yashu\\anaconda3\\lib\\site-packages (from tensorflow==2.6.1) (3.1.0)\n",
      "Requirement already satisfied: numpy~=1.19.2 in c:\\users\\yashu\\anaconda3\\lib\\site-packages (from tensorflow==2.6.1) (1.19.5)\n",
      "Requirement already satisfied: keras~=2.6 in c:\\users\\yashu\\anaconda3\\lib\\site-packages (from tensorflow==2.6.1) (2.6.0)\n",
      "Requirement already satisfied: protobuf>=3.9.2 in c:\\users\\yashu\\anaconda3\\lib\\site-packages (from tensorflow==2.6.1) (3.19.1)\n",
      "Requirement already satisfied: six~=1.15.0 in c:\\users\\yashu\\anaconda3\\lib\\site-packages (from tensorflow==2.6.1) (1.15.0)\n",
      "Requirement already satisfied: flatbuffers~=1.12.0 in c:\\users\\yashu\\anaconda3\\lib\\site-packages (from tensorflow==2.6.1) (1.12)\n",
      "Requirement already satisfied: wheel~=0.35 in c:\\users\\yashu\\anaconda3\\lib\\site-packages (from tensorflow==2.6.1) (0.37.1)\n",
      "Requirement already satisfied: keras-preprocessing~=1.1.2 in c:\\users\\yashu\\anaconda3\\lib\\site-packages (from tensorflow==2.6.1) (1.1.2)\n",
      "Requirement already satisfied: setuptools>=41.0.0 in c:\\users\\yashu\\anaconda3\\lib\\site-packages (from tensorboard~=2.6->tensorflow==2.6.1) (61.2.0)\n",
      "Requirement already satisfied: markdown>=2.6.8 in c:\\users\\yashu\\anaconda3\\lib\\site-packages (from tensorboard~=2.6->tensorflow==2.6.1) (3.3.4)\n",
      "Requirement already satisfied: tensorboard-data-server<0.7.0,>=0.6.0 in c:\\users\\yashu\\anaconda3\\lib\\site-packages (from tensorboard~=2.6->tensorflow==2.6.1) (0.6.1)\n",
      "Requirement already satisfied: google-auth<2,>=1.6.3 in c:\\users\\yashu\\anaconda3\\lib\\site-packages (from tensorboard~=2.6->tensorflow==2.6.1) (1.33.0)\n",
      "Requirement already satisfied: google-auth-oauthlib<0.5,>=0.4.1 in c:\\users\\yashu\\anaconda3\\lib\\site-packages (from tensorboard~=2.6->tensorflow==2.6.1) (0.4.6)\n",
      "Requirement already satisfied: werkzeug>=0.11.15 in c:\\users\\yashu\\anaconda3\\lib\\site-packages (from tensorboard~=2.6->tensorflow==2.6.1) (2.0.3)\n",
      "Requirement already satisfied: tensorboard-plugin-wit>=1.6.0 in c:\\users\\yashu\\anaconda3\\lib\\site-packages (from tensorboard~=2.6->tensorflow==2.6.1) (1.8.1)\n",
      "Requirement already satisfied: requests<3,>=2.21.0 in c:\\users\\yashu\\anaconda3\\lib\\site-packages (from tensorboard~=2.6->tensorflow==2.6.1) (2.27.1)\n",
      "Requirement already satisfied: pyasn1-modules>=0.2.1 in c:\\users\\yashu\\anaconda3\\lib\\site-packages (from google-auth<2,>=1.6.3->tensorboard~=2.6->tensorflow==2.6.1) (0.2.8)\n",
      "Requirement already satisfied: cachetools<5.0,>=2.0.0 in c:\\users\\yashu\\anaconda3\\lib\\site-packages (from google-auth<2,>=1.6.3->tensorboard~=2.6->tensorflow==2.6.1) (4.2.2)\n",
      "Requirement already satisfied: rsa<5,>=3.1.4 in c:\\users\\yashu\\anaconda3\\lib\\site-packages (from google-auth<2,>=1.6.3->tensorboard~=2.6->tensorflow==2.6.1) (4.7.2)\n",
      "Requirement already satisfied: requests-oauthlib>=0.7.0 in c:\\users\\yashu\\anaconda3\\lib\\site-packages (from google-auth-oauthlib<0.5,>=0.4.1->tensorboard~=2.6->tensorflow==2.6.1) (1.3.1)\n",
      "Requirement already satisfied: pyasn1<0.5.0,>=0.4.6 in c:\\users\\yashu\\anaconda3\\lib\\site-packages (from pyasn1-modules>=0.2.1->google-auth<2,>=1.6.3->tensorboard~=2.6->tensorflow==2.6.1) (0.4.8)\n",
      "Requirement already satisfied: idna<4,>=2.5 in c:\\users\\yashu\\anaconda3\\lib\\site-packages (from requests<3,>=2.21.0->tensorboard~=2.6->tensorflow==2.6.1) (3.3)\n",
      "Requirement already satisfied: charset-normalizer~=2.0.0 in c:\\users\\yashu\\anaconda3\\lib\\site-packages (from requests<3,>=2.21.0->tensorboard~=2.6->tensorflow==2.6.1) (2.0.4)\n",
      "Requirement already satisfied: urllib3<1.27,>=1.21.1 in c:\\users\\yashu\\anaconda3\\lib\\site-packages (from requests<3,>=2.21.0->tensorboard~=2.6->tensorflow==2.6.1) (1.26.9)\n",
      "Requirement already satisfied: certifi>=2017.4.17 in c:\\users\\yashu\\anaconda3\\lib\\site-packages (from requests<3,>=2.21.0->tensorboard~=2.6->tensorflow==2.6.1) (2021.10.8)\n",
      "Requirement already satisfied: oauthlib>=3.0.0 in c:\\users\\yashu\\anaconda3\\lib\\site-packages (from requests-oauthlib>=0.7.0->google-auth-oauthlib<0.5,>=0.4.1->tensorboard~=2.6->tensorflow==2.6.1) (3.2.2)\n"
     ]
    }
   ],
   "source": [
    "!pip install tensorflow==2.6.1"
   ]
  },
  {
   "cell_type": "code",
   "execution_count": 521,
   "id": "b9771d17",
   "metadata": {},
   "outputs": [],
   "source": [
    "import pandas as pd\n",
    "import matplotlib.pyplot as plt\n",
    "import numpy as np\n",
    "import seaborn as sns\n",
    "\n",
    "import tensorflow as tf\n",
    "from tensorflow import keras\n",
    "from tensorflow.keras.layers import Dense, Activation, Dropout\n",
    "from tensorflow.keras.optimizers import Adam\n",
    "from tensorflow.keras.metrics import Accuracy\n",
    "\n",
    "from sklearn import metrics\n",
    "from sklearn.preprocessing import LabelEncoder\n",
    "from sklearn.metrics import classification_report,accuracy_score,roc_curve,confusion_matrix"
   ]
  },
  {
   "cell_type": "code",
   "execution_count": 522,
   "id": "8b04bc01",
   "metadata": {},
   "outputs": [
    {
     "name": "stdout",
     "output_type": "stream",
     "text": [
      "Requirement already satisfied: jupyterthemes in c:\\users\\yashu\\anaconda3\\lib\\site-packages (0.20.0)\n",
      "Requirement already satisfied: matplotlib>=1.4.3 in c:\\users\\yashu\\anaconda3\\lib\\site-packages (from jupyterthemes) (3.5.1)\n",
      "Requirement already satisfied: lesscpy>=0.11.2 in c:\\users\\yashu\\anaconda3\\lib\\site-packages (from jupyterthemes) (0.15.1)\n",
      "Requirement already satisfied: ipython>=5.4.1 in c:\\users\\yashu\\anaconda3\\lib\\site-packages (from jupyterthemes) (8.2.0)\n",
      "Requirement already satisfied: notebook>=5.6.0 in c:\\users\\yashu\\anaconda3\\lib\\site-packages (from jupyterthemes) (6.4.8)\n",
      "Requirement already satisfied: jupyter-core in c:\\users\\yashu\\anaconda3\\lib\\site-packages (from jupyterthemes) (4.9.2)\n",
      "Requirement already satisfied: backcall in c:\\users\\yashu\\anaconda3\\lib\\site-packages (from ipython>=5.4.1->jupyterthemes) (0.2.0)\n",
      "Requirement already satisfied: prompt-toolkit!=3.0.0,!=3.0.1,<3.1.0,>=2.0.0 in c:\\users\\yashu\\anaconda3\\lib\\site-packages (from ipython>=5.4.1->jupyterthemes) (3.0.20)\n",
      "Requirement already satisfied: stack-data in c:\\users\\yashu\\anaconda3\\lib\\site-packages (from ipython>=5.4.1->jupyterthemes) (0.2.0)\n",
      "Requirement already satisfied: jedi>=0.16 in c:\\users\\yashu\\anaconda3\\lib\\site-packages (from ipython>=5.4.1->jupyterthemes) (0.18.1)\n",
      "Requirement already satisfied: colorama in c:\\users\\yashu\\anaconda3\\lib\\site-packages (from ipython>=5.4.1->jupyterthemes) (0.4.4)\n",
      "Requirement already satisfied: setuptools>=18.5 in c:\\users\\yashu\\anaconda3\\lib\\site-packages (from ipython>=5.4.1->jupyterthemes) (61.2.0)\n",
      "Requirement already satisfied: traitlets>=5 in c:\\users\\yashu\\anaconda3\\lib\\site-packages (from ipython>=5.4.1->jupyterthemes) (5.1.1)\n",
      "Requirement already satisfied: pygments>=2.4.0 in c:\\users\\yashu\\anaconda3\\lib\\site-packages (from ipython>=5.4.1->jupyterthemes) (2.11.2)\n",
      "Requirement already satisfied: decorator in c:\\users\\yashu\\anaconda3\\lib\\site-packages (from ipython>=5.4.1->jupyterthemes) (5.1.1)\n",
      "Requirement already satisfied: pickleshare in c:\\users\\yashu\\anaconda3\\lib\\site-packages (from ipython>=5.4.1->jupyterthemes) (0.7.5)\n",
      "Requirement already satisfied: matplotlib-inline in c:\\users\\yashu\\anaconda3\\lib\\site-packages (from ipython>=5.4.1->jupyterthemes) (0.1.2)\n",
      "Requirement already satisfied: parso<0.9.0,>=0.8.0 in c:\\users\\yashu\\anaconda3\\lib\\site-packages (from jedi>=0.16->ipython>=5.4.1->jupyterthemes) (0.8.3)\n",
      "Requirement already satisfied: ply in c:\\users\\yashu\\anaconda3\\lib\\site-packages (from lesscpy>=0.11.2->jupyterthemes) (3.11)\n",
      "Requirement already satisfied: pillow>=6.2.0 in c:\\users\\yashu\\anaconda3\\lib\\site-packages (from matplotlib>=1.4.3->jupyterthemes) (9.0.1)\n",
      "Requirement already satisfied: python-dateutil>=2.7 in c:\\users\\yashu\\anaconda3\\lib\\site-packages (from matplotlib>=1.4.3->jupyterthemes) (2.8.2)\n",
      "Requirement already satisfied: kiwisolver>=1.0.1 in c:\\users\\yashu\\anaconda3\\lib\\site-packages (from matplotlib>=1.4.3->jupyterthemes) (1.3.2)\n",
      "Requirement already satisfied: numpy>=1.17 in c:\\users\\yashu\\anaconda3\\lib\\site-packages (from matplotlib>=1.4.3->jupyterthemes) (1.19.5)\n",
      "Requirement already satisfied: fonttools>=4.22.0 in c:\\users\\yashu\\anaconda3\\lib\\site-packages (from matplotlib>=1.4.3->jupyterthemes) (4.25.0)\n",
      "Requirement already satisfied: pyparsing>=2.2.1 in c:\\users\\yashu\\anaconda3\\lib\\site-packages (from matplotlib>=1.4.3->jupyterthemes) (3.0.4)\n",
      "Requirement already satisfied: cycler>=0.10 in c:\\users\\yashu\\anaconda3\\lib\\site-packages (from matplotlib>=1.4.3->jupyterthemes) (0.11.0)\n",
      "Requirement already satisfied: packaging>=20.0 in c:\\users\\yashu\\anaconda3\\lib\\site-packages (from matplotlib>=1.4.3->jupyterthemes) (21.3)\n",
      "Requirement already satisfied: nest-asyncio>=1.5 in c:\\users\\yashu\\anaconda3\\lib\\site-packages (from notebook>=5.6.0->jupyterthemes) (1.5.5)\n",
      "Requirement already satisfied: tornado>=6.1 in c:\\users\\yashu\\anaconda3\\lib\\site-packages (from notebook>=5.6.0->jupyterthemes) (6.1)\n",
      "Requirement already satisfied: prometheus-client in c:\\users\\yashu\\anaconda3\\lib\\site-packages (from notebook>=5.6.0->jupyterthemes) (0.13.1)\n",
      "Requirement already satisfied: jinja2 in c:\\users\\yashu\\anaconda3\\lib\\site-packages (from notebook>=5.6.0->jupyterthemes) (2.11.3)\n",
      "Requirement already satisfied: pyzmq>=17 in c:\\users\\yashu\\anaconda3\\lib\\site-packages (from notebook>=5.6.0->jupyterthemes) (22.3.0)\n",
      "Requirement already satisfied: ipykernel in c:\\users\\yashu\\anaconda3\\lib\\site-packages (from notebook>=5.6.0->jupyterthemes) (6.9.1)\n",
      "Requirement already satisfied: nbformat in c:\\users\\yashu\\anaconda3\\lib\\site-packages (from notebook>=5.6.0->jupyterthemes) (5.3.0)\n",
      "Requirement already satisfied: terminado>=0.8.3 in c:\\users\\yashu\\anaconda3\\lib\\site-packages (from notebook>=5.6.0->jupyterthemes) (0.13.1)\n",
      "Requirement already satisfied: Send2Trash>=1.8.0 in c:\\users\\yashu\\anaconda3\\lib\\site-packages (from notebook>=5.6.0->jupyterthemes) (1.8.0)\n",
      "Requirement already satisfied: ipython-genutils in c:\\users\\yashu\\anaconda3\\lib\\site-packages (from notebook>=5.6.0->jupyterthemes) (0.2.0)\n",
      "Requirement already satisfied: nbconvert in c:\\users\\yashu\\anaconda3\\lib\\site-packages (from notebook>=5.6.0->jupyterthemes) (6.4.4)\n",
      "Requirement already satisfied: jupyter-client>=5.3.4 in c:\\users\\yashu\\anaconda3\\lib\\site-packages (from notebook>=5.6.0->jupyterthemes) (6.1.12)\n",
      "Requirement already satisfied: argon2-cffi in c:\\users\\yashu\\anaconda3\\lib\\site-packages (from notebook>=5.6.0->jupyterthemes) (21.3.0)\n",
      "Requirement already satisfied: pywin32>=1.0 in c:\\users\\yashu\\anaconda3\\lib\\site-packages (from jupyter-core->jupyterthemes) (302)\n",
      "Requirement already satisfied: wcwidth in c:\\users\\yashu\\anaconda3\\lib\\site-packages (from prompt-toolkit!=3.0.0,!=3.0.1,<3.1.0,>=2.0.0->ipython>=5.4.1->jupyterthemes) (0.2.5)\n",
      "Requirement already satisfied: six>=1.5 in c:\\users\\yashu\\anaconda3\\lib\\site-packages (from python-dateutil>=2.7->matplotlib>=1.4.3->jupyterthemes) (1.15.0)\n",
      "Requirement already satisfied: pywinpty>=1.1.0 in c:\\users\\yashu\\anaconda3\\lib\\site-packages (from terminado>=0.8.3->notebook>=5.6.0->jupyterthemes) (2.0.2)\n",
      "Requirement already satisfied: argon2-cffi-bindings in c:\\users\\yashu\\anaconda3\\lib\\site-packages (from argon2-cffi->notebook>=5.6.0->jupyterthemes) (21.2.0)\n",
      "Requirement already satisfied: cffi>=1.0.1 in c:\\users\\yashu\\anaconda3\\lib\\site-packages (from argon2-cffi-bindings->argon2-cffi->notebook>=5.6.0->jupyterthemes) (1.15.0)\n",
      "Requirement already satisfied: pycparser in c:\\users\\yashu\\anaconda3\\lib\\site-packages (from cffi>=1.0.1->argon2-cffi-bindings->argon2-cffi->notebook>=5.6.0->jupyterthemes) (2.21)\n",
      "Requirement already satisfied: debugpy<2.0,>=1.0.0 in c:\\users\\yashu\\anaconda3\\lib\\site-packages (from ipykernel->notebook>=5.6.0->jupyterthemes) (1.5.1)\n",
      "Requirement already satisfied: MarkupSafe>=0.23 in c:\\users\\yashu\\anaconda3\\lib\\site-packages (from jinja2->notebook>=5.6.0->jupyterthemes) (2.0.1)\n",
      "Requirement already satisfied: defusedxml in c:\\users\\yashu\\anaconda3\\lib\\site-packages (from nbconvert->notebook>=5.6.0->jupyterthemes) (0.7.1)\n",
      "Requirement already satisfied: testpath in c:\\users\\yashu\\anaconda3\\lib\\site-packages (from nbconvert->notebook>=5.6.0->jupyterthemes) (0.5.0)\n",
      "Requirement already satisfied: entrypoints>=0.2.2 in c:\\users\\yashu\\anaconda3\\lib\\site-packages (from nbconvert->notebook>=5.6.0->jupyterthemes) (0.4)\n",
      "Requirement already satisfied: bleach in c:\\users\\yashu\\anaconda3\\lib\\site-packages (from nbconvert->notebook>=5.6.0->jupyterthemes) (4.1.0)\n",
      "Requirement already satisfied: mistune<2,>=0.8.1 in c:\\users\\yashu\\anaconda3\\lib\\site-packages (from nbconvert->notebook>=5.6.0->jupyterthemes) (0.8.4)\n",
      "Requirement already satisfied: jupyterlab-pygments in c:\\users\\yashu\\anaconda3\\lib\\site-packages (from nbconvert->notebook>=5.6.0->jupyterthemes) (0.1.2)\n",
      "Requirement already satisfied: pandocfilters>=1.4.1 in c:\\users\\yashu\\anaconda3\\lib\\site-packages (from nbconvert->notebook>=5.6.0->jupyterthemes) (1.5.0)\n",
      "Requirement already satisfied: nbclient<0.6.0,>=0.5.0 in c:\\users\\yashu\\anaconda3\\lib\\site-packages (from nbconvert->notebook>=5.6.0->jupyterthemes) (0.5.13)\n",
      "Requirement already satisfied: beautifulsoup4 in c:\\users\\yashu\\anaconda3\\lib\\site-packages (from nbconvert->notebook>=5.6.0->jupyterthemes) (4.11.1)\n",
      "Requirement already satisfied: fastjsonschema in c:\\users\\yashu\\anaconda3\\lib\\site-packages (from nbformat->notebook>=5.6.0->jupyterthemes) (2.15.1)\n",
      "Requirement already satisfied: jsonschema>=2.6 in c:\\users\\yashu\\anaconda3\\lib\\site-packages (from nbformat->notebook>=5.6.0->jupyterthemes) (4.4.0)\n",
      "Requirement already satisfied: pyrsistent!=0.17.0,!=0.17.1,!=0.17.2,>=0.14.0 in c:\\users\\yashu\\anaconda3\\lib\\site-packages (from jsonschema>=2.6->nbformat->notebook>=5.6.0->jupyterthemes) (0.18.0)\n",
      "Requirement already satisfied: attrs>=17.4.0 in c:\\users\\yashu\\anaconda3\\lib\\site-packages (from jsonschema>=2.6->nbformat->notebook>=5.6.0->jupyterthemes) (21.4.0)\n",
      "Requirement already satisfied: soupsieve>1.2 in c:\\users\\yashu\\anaconda3\\lib\\site-packages (from beautifulsoup4->nbconvert->notebook>=5.6.0->jupyterthemes) (2.3.1)\n",
      "Requirement already satisfied: webencodings in c:\\users\\yashu\\anaconda3\\lib\\site-packages (from bleach->nbconvert->notebook>=5.6.0->jupyterthemes) (0.5.1)\n",
      "Requirement already satisfied: asttokens in c:\\users\\yashu\\anaconda3\\lib\\site-packages (from stack-data->ipython>=5.4.1->jupyterthemes) (2.0.5)\n",
      "Requirement already satisfied: pure-eval in c:\\users\\yashu\\anaconda3\\lib\\site-packages (from stack-data->ipython>=5.4.1->jupyterthemes) (0.2.2)\n",
      "Requirement already satisfied: executing in c:\\users\\yashu\\anaconda3\\lib\\site-packages (from stack-data->ipython>=5.4.1->jupyterthemes) (0.8.3)\n"
     ]
    }
   ],
   "source": [
    "!pip install jupyterthemes"
   ]
  },
  {
   "cell_type": "code",
   "execution_count": 523,
   "id": "f51588a0",
   "metadata": {},
   "outputs": [],
   "source": [
    "from jupyterthemes import jtplot\n",
    "jtplot.style(theme = 'monokai', context = 'notebook', ticks = True, grid = False)"
   ]
  },
  {
   "cell_type": "code",
   "execution_count": 524,
   "id": "6201d4b7",
   "metadata": {},
   "outputs": [],
   "source": [
    "instagram_df_test = pd.read_csv('Desktop/test1.csv')\n",
    "instagram_df_train = pd.read_csv('Desktop/train1.csv')"
   ]
  },
  {
   "cell_type": "code",
   "execution_count": 525,
   "id": "45830b89",
   "metadata": {},
   "outputs": [
    {
     "data": {
      "text/html": [
       "<div>\n",
       "<style scoped>\n",
       "    .dataframe tbody tr th:only-of-type {\n",
       "        vertical-align: middle;\n",
       "    }\n",
       "\n",
       "    .dataframe tbody tr th {\n",
       "        vertical-align: top;\n",
       "    }\n",
       "\n",
       "    .dataframe thead th {\n",
       "        text-align: right;\n",
       "    }\n",
       "</style>\n",
       "<table border=\"1\" class=\"dataframe\">\n",
       "  <thead>\n",
       "    <tr style=\"text-align: right;\">\n",
       "      <th></th>\n",
       "      <th>userFollowerCount</th>\n",
       "      <th>userFollowingCount</th>\n",
       "      <th>userBiographyLength</th>\n",
       "      <th>userMediaCount</th>\n",
       "      <th>userHasProfilPic</th>\n",
       "      <th>userIsPrivate</th>\n",
       "      <th>usernameDigitCount</th>\n",
       "      <th>usernameLength</th>\n",
       "      <th>isFake</th>\n",
       "    </tr>\n",
       "  </thead>\n",
       "  <tbody>\n",
       "    <tr>\n",
       "      <th>0</th>\n",
       "      <td>25</td>\n",
       "      <td>1937</td>\n",
       "      <td>0</td>\n",
       "      <td>0</td>\n",
       "      <td>1</td>\n",
       "      <td>1</td>\n",
       "      <td>0</td>\n",
       "      <td>10</td>\n",
       "      <td>1</td>\n",
       "    </tr>\n",
       "    <tr>\n",
       "      <th>1</th>\n",
       "      <td>324</td>\n",
       "      <td>4122</td>\n",
       "      <td>0</td>\n",
       "      <td>0</td>\n",
       "      <td>1</td>\n",
       "      <td>0</td>\n",
       "      <td>4</td>\n",
       "      <td>15</td>\n",
       "      <td>1</td>\n",
       "    </tr>\n",
       "    <tr>\n",
       "      <th>2</th>\n",
       "      <td>15</td>\n",
       "      <td>399</td>\n",
       "      <td>0</td>\n",
       "      <td>0</td>\n",
       "      <td>0</td>\n",
       "      <td>0</td>\n",
       "      <td>3</td>\n",
       "      <td>12</td>\n",
       "      <td>1</td>\n",
       "    </tr>\n",
       "    <tr>\n",
       "      <th>3</th>\n",
       "      <td>14</td>\n",
       "      <td>107</td>\n",
       "      <td>0</td>\n",
       "      <td>1</td>\n",
       "      <td>1</td>\n",
       "      <td>0</td>\n",
       "      <td>1</td>\n",
       "      <td>10</td>\n",
       "      <td>1</td>\n",
       "    </tr>\n",
       "    <tr>\n",
       "      <th>4</th>\n",
       "      <td>264</td>\n",
       "      <td>4651</td>\n",
       "      <td>0</td>\n",
       "      <td>0</td>\n",
       "      <td>1</td>\n",
       "      <td>0</td>\n",
       "      <td>0</td>\n",
       "      <td>14</td>\n",
       "      <td>1</td>\n",
       "    </tr>\n",
       "    <tr>\n",
       "      <th>...</th>\n",
       "      <td>...</td>\n",
       "      <td>...</td>\n",
       "      <td>...</td>\n",
       "      <td>...</td>\n",
       "      <td>...</td>\n",
       "      <td>...</td>\n",
       "      <td>...</td>\n",
       "      <td>...</td>\n",
       "      <td>...</td>\n",
       "    </tr>\n",
       "    <tr>\n",
       "      <th>584</th>\n",
       "      <td>239</td>\n",
       "      <td>1134</td>\n",
       "      <td>145</td>\n",
       "      <td>9</td>\n",
       "      <td>1</td>\n",
       "      <td>0</td>\n",
       "      <td>0</td>\n",
       "      <td>19</td>\n",
       "      <td>0</td>\n",
       "    </tr>\n",
       "    <tr>\n",
       "      <th>585</th>\n",
       "      <td>91</td>\n",
       "      <td>149</td>\n",
       "      <td>0</td>\n",
       "      <td>7</td>\n",
       "      <td>1</td>\n",
       "      <td>0</td>\n",
       "      <td>0</td>\n",
       "      <td>18</td>\n",
       "      <td>0</td>\n",
       "    </tr>\n",
       "    <tr>\n",
       "      <th>586</th>\n",
       "      <td>78</td>\n",
       "      <td>783</td>\n",
       "      <td>28</td>\n",
       "      <td>1</td>\n",
       "      <td>1</td>\n",
       "      <td>0</td>\n",
       "      <td>0</td>\n",
       "      <td>11</td>\n",
       "      <td>0</td>\n",
       "    </tr>\n",
       "    <tr>\n",
       "      <th>587</th>\n",
       "      <td>135</td>\n",
       "      <td>517</td>\n",
       "      <td>44</td>\n",
       "      <td>4</td>\n",
       "      <td>1</td>\n",
       "      <td>0</td>\n",
       "      <td>4</td>\n",
       "      <td>11</td>\n",
       "      <td>0</td>\n",
       "    </tr>\n",
       "    <tr>\n",
       "      <th>588</th>\n",
       "      <td>203</td>\n",
       "      <td>823</td>\n",
       "      <td>71</td>\n",
       "      <td>4</td>\n",
       "      <td>1</td>\n",
       "      <td>0</td>\n",
       "      <td>0</td>\n",
       "      <td>12</td>\n",
       "      <td>0</td>\n",
       "    </tr>\n",
       "  </tbody>\n",
       "</table>\n",
       "<p>589 rows × 9 columns</p>\n",
       "</div>"
      ],
      "text/plain": [
       "     userFollowerCount  userFollowingCount  userBiographyLength  \\\n",
       "0                   25                1937                    0   \n",
       "1                  324                4122                    0   \n",
       "2                   15                 399                    0   \n",
       "3                   14                 107                    0   \n",
       "4                  264                4651                    0   \n",
       "..                 ...                 ...                  ...   \n",
       "584                239                1134                  145   \n",
       "585                 91                 149                    0   \n",
       "586                 78                 783                   28   \n",
       "587                135                 517                   44   \n",
       "588                203                 823                   71   \n",
       "\n",
       "     userMediaCount  userHasProfilPic  userIsPrivate  usernameDigitCount  \\\n",
       "0                 0                 1              1                   0   \n",
       "1                 0                 1              0                   4   \n",
       "2                 0                 0              0                   3   \n",
       "3                 1                 1              0                   1   \n",
       "4                 0                 1              0                   0   \n",
       "..              ...               ...            ...                 ...   \n",
       "584               9                 1              0                   0   \n",
       "585               7                 1              0                   0   \n",
       "586               1                 1              0                   0   \n",
       "587               4                 1              0                   4   \n",
       "588               4                 1              0                   0   \n",
       "\n",
       "     usernameLength  isFake  \n",
       "0                10       1  \n",
       "1                15       1  \n",
       "2                12       1  \n",
       "3                10       1  \n",
       "4                14       1  \n",
       "..              ...     ...  \n",
       "584              19       0  \n",
       "585              18       0  \n",
       "586              11       0  \n",
       "587              11       0  \n",
       "588              12       0  \n",
       "\n",
       "[589 rows x 9 columns]"
      ]
     },
     "execution_count": 525,
     "metadata": {},
     "output_type": "execute_result"
    }
   ],
   "source": [
    "instagram_df_train"
   ]
  },
  {
   "cell_type": "code",
   "execution_count": 526,
   "id": "858d9944",
   "metadata": {},
   "outputs": [
    {
     "data": {
      "text/html": [
       "<div>\n",
       "<style scoped>\n",
       "    .dataframe tbody tr th:only-of-type {\n",
       "        vertical-align: middle;\n",
       "    }\n",
       "\n",
       "    .dataframe tbody tr th {\n",
       "        vertical-align: top;\n",
       "    }\n",
       "\n",
       "    .dataframe thead th {\n",
       "        text-align: right;\n",
       "    }\n",
       "</style>\n",
       "<table border=\"1\" class=\"dataframe\">\n",
       "  <thead>\n",
       "    <tr style=\"text-align: right;\">\n",
       "      <th></th>\n",
       "      <th>userFollowerCount</th>\n",
       "      <th>userFollowingCount</th>\n",
       "      <th>userBiographyLength</th>\n",
       "      <th>userMediaCount</th>\n",
       "      <th>userHasProfilPic</th>\n",
       "      <th>userIsPrivate</th>\n",
       "      <th>usernameDigitCount</th>\n",
       "      <th>usernameLength</th>\n",
       "      <th>isFake</th>\n",
       "    </tr>\n",
       "  </thead>\n",
       "  <tbody>\n",
       "    <tr>\n",
       "      <th>0</th>\n",
       "      <td>15</td>\n",
       "      <td>3949</td>\n",
       "      <td>0</td>\n",
       "      <td>0</td>\n",
       "      <td>0</td>\n",
       "      <td>0</td>\n",
       "      <td>2</td>\n",
       "      <td>13</td>\n",
       "      <td>1</td>\n",
       "    </tr>\n",
       "    <tr>\n",
       "      <th>1</th>\n",
       "      <td>26</td>\n",
       "      <td>3400</td>\n",
       "      <td>0</td>\n",
       "      <td>0</td>\n",
       "      <td>0</td>\n",
       "      <td>0</td>\n",
       "      <td>2</td>\n",
       "      <td>8</td>\n",
       "      <td>1</td>\n",
       "    </tr>\n",
       "    <tr>\n",
       "      <th>2</th>\n",
       "      <td>32</td>\n",
       "      <td>3921</td>\n",
       "      <td>70</td>\n",
       "      <td>0</td>\n",
       "      <td>1</td>\n",
       "      <td>0</td>\n",
       "      <td>2</td>\n",
       "      <td>11</td>\n",
       "      <td>1</td>\n",
       "    </tr>\n",
       "    <tr>\n",
       "      <th>3</th>\n",
       "      <td>34</td>\n",
       "      <td>7158</td>\n",
       "      <td>0</td>\n",
       "      <td>0</td>\n",
       "      <td>0</td>\n",
       "      <td>0</td>\n",
       "      <td>1</td>\n",
       "      <td>10</td>\n",
       "      <td>1</td>\n",
       "    </tr>\n",
       "    <tr>\n",
       "      <th>4</th>\n",
       "      <td>47</td>\n",
       "      <td>3999</td>\n",
       "      <td>129</td>\n",
       "      <td>0</td>\n",
       "      <td>1</td>\n",
       "      <td>1</td>\n",
       "      <td>0</td>\n",
       "      <td>12</td>\n",
       "      <td>1</td>\n",
       "    </tr>\n",
       "    <tr>\n",
       "      <th>...</th>\n",
       "      <td>...</td>\n",
       "      <td>...</td>\n",
       "      <td>...</td>\n",
       "      <td>...</td>\n",
       "      <td>...</td>\n",
       "      <td>...</td>\n",
       "      <td>...</td>\n",
       "      <td>...</td>\n",
       "      <td>...</td>\n",
       "    </tr>\n",
       "    <tr>\n",
       "      <th>600</th>\n",
       "      <td>270</td>\n",
       "      <td>493</td>\n",
       "      <td>0</td>\n",
       "      <td>0</td>\n",
       "      <td>1</td>\n",
       "      <td>0</td>\n",
       "      <td>0</td>\n",
       "      <td>13</td>\n",
       "      <td>0</td>\n",
       "    </tr>\n",
       "    <tr>\n",
       "      <th>601</th>\n",
       "      <td>427</td>\n",
       "      <td>981</td>\n",
       "      <td>20</td>\n",
       "      <td>95</td>\n",
       "      <td>1</td>\n",
       "      <td>1</td>\n",
       "      <td>2</td>\n",
       "      <td>13</td>\n",
       "      <td>0</td>\n",
       "    </tr>\n",
       "    <tr>\n",
       "      <th>602</th>\n",
       "      <td>386</td>\n",
       "      <td>482</td>\n",
       "      <td>32</td>\n",
       "      <td>48</td>\n",
       "      <td>1</td>\n",
       "      <td>1</td>\n",
       "      <td>0</td>\n",
       "      <td>7</td>\n",
       "      <td>0</td>\n",
       "    </tr>\n",
       "    <tr>\n",
       "      <th>603</th>\n",
       "      <td>65</td>\n",
       "      <td>67</td>\n",
       "      <td>79</td>\n",
       "      <td>116</td>\n",
       "      <td>1</td>\n",
       "      <td>0</td>\n",
       "      <td>0</td>\n",
       "      <td>8</td>\n",
       "      <td>0</td>\n",
       "    </tr>\n",
       "    <tr>\n",
       "      <th>604</th>\n",
       "      <td>315</td>\n",
       "      <td>363</td>\n",
       "      <td>26</td>\n",
       "      <td>0</td>\n",
       "      <td>1</td>\n",
       "      <td>0</td>\n",
       "      <td>0</td>\n",
       "      <td>8</td>\n",
       "      <td>0</td>\n",
       "    </tr>\n",
       "  </tbody>\n",
       "</table>\n",
       "<p>605 rows × 9 columns</p>\n",
       "</div>"
      ],
      "text/plain": [
       "     userFollowerCount  userFollowingCount  userBiographyLength  \\\n",
       "0                   15                3949                    0   \n",
       "1                   26                3400                    0   \n",
       "2                   32                3921                   70   \n",
       "3                   34                7158                    0   \n",
       "4                   47                3999                  129   \n",
       "..                 ...                 ...                  ...   \n",
       "600                270                 493                    0   \n",
       "601                427                 981                   20   \n",
       "602                386                 482                   32   \n",
       "603                 65                  67                   79   \n",
       "604                315                 363                   26   \n",
       "\n",
       "     userMediaCount  userHasProfilPic  userIsPrivate  usernameDigitCount  \\\n",
       "0                 0                 0              0                   2   \n",
       "1                 0                 0              0                   2   \n",
       "2                 0                 1              0                   2   \n",
       "3                 0                 0              0                   1   \n",
       "4                 0                 1              1                   0   \n",
       "..              ...               ...            ...                 ...   \n",
       "600               0                 1              0                   0   \n",
       "601              95                 1              1                   2   \n",
       "602              48                 1              1                   0   \n",
       "603             116                 1              0                   0   \n",
       "604               0                 1              0                   0   \n",
       "\n",
       "     usernameLength  isFake  \n",
       "0                13       1  \n",
       "1                 8       1  \n",
       "2                11       1  \n",
       "3                10       1  \n",
       "4                12       1  \n",
       "..              ...     ...  \n",
       "600              13       0  \n",
       "601              13       0  \n",
       "602               7       0  \n",
       "603               8       0  \n",
       "604               8       0  \n",
       "\n",
       "[605 rows x 9 columns]"
      ]
     },
     "execution_count": 526,
     "metadata": {},
     "output_type": "execute_result"
    }
   ],
   "source": [
    "instagram_df_test"
   ]
  },
  {
   "cell_type": "code",
   "execution_count": 527,
   "id": "959fe1c8",
   "metadata": {},
   "outputs": [
    {
     "name": "stdout",
     "output_type": "stream",
     "text": [
      "<class 'pandas.core.frame.DataFrame'>\n",
      "RangeIndex: 589 entries, 0 to 588\n",
      "Data columns (total 9 columns):\n",
      " #   Column               Non-Null Count  Dtype\n",
      "---  ------               --------------  -----\n",
      " 0   userFollowerCount    589 non-null    int64\n",
      " 1   userFollowingCount   589 non-null    int64\n",
      " 2   userBiographyLength  589 non-null    int64\n",
      " 3   userMediaCount       589 non-null    int64\n",
      " 4   userHasProfilPic     589 non-null    int64\n",
      " 5   userIsPrivate        589 non-null    int64\n",
      " 6   usernameDigitCount   589 non-null    int64\n",
      " 7   usernameLength       589 non-null    int64\n",
      " 8   isFake               589 non-null    int64\n",
      "dtypes: int64(9)\n",
      "memory usage: 41.5 KB\n"
     ]
    }
   ],
   "source": [
    "instagram_df_train.info()"
   ]
  },
  {
   "cell_type": "code",
   "execution_count": 528,
   "id": "519358c5",
   "metadata": {},
   "outputs": [
    {
     "data": {
      "text/html": [
       "<div>\n",
       "<style scoped>\n",
       "    .dataframe tbody tr th:only-of-type {\n",
       "        vertical-align: middle;\n",
       "    }\n",
       "\n",
       "    .dataframe tbody tr th {\n",
       "        vertical-align: top;\n",
       "    }\n",
       "\n",
       "    .dataframe thead th {\n",
       "        text-align: right;\n",
       "    }\n",
       "</style>\n",
       "<table border=\"1\" class=\"dataframe\">\n",
       "  <thead>\n",
       "    <tr style=\"text-align: right;\">\n",
       "      <th></th>\n",
       "      <th>userFollowerCount</th>\n",
       "      <th>userFollowingCount</th>\n",
       "      <th>userBiographyLength</th>\n",
       "      <th>userMediaCount</th>\n",
       "      <th>userHasProfilPic</th>\n",
       "      <th>userIsPrivate</th>\n",
       "      <th>usernameDigitCount</th>\n",
       "      <th>usernameLength</th>\n",
       "      <th>isFake</th>\n",
       "    </tr>\n",
       "  </thead>\n",
       "  <tbody>\n",
       "    <tr>\n",
       "      <th>count</th>\n",
       "      <td>589.000000</td>\n",
       "      <td>589.000000</td>\n",
       "      <td>589.000000</td>\n",
       "      <td>589.000000</td>\n",
       "      <td>589.000000</td>\n",
       "      <td>589.000000</td>\n",
       "      <td>589.000000</td>\n",
       "      <td>589.000000</td>\n",
       "      <td>589.000000</td>\n",
       "    </tr>\n",
       "    <tr>\n",
       "      <th>mean</th>\n",
       "      <td>378.877759</td>\n",
       "      <td>807.663837</td>\n",
       "      <td>20.925297</td>\n",
       "      <td>67.005093</td>\n",
       "      <td>0.921902</td>\n",
       "      <td>0.628183</td>\n",
       "      <td>0.553480</td>\n",
       "      <td>11.196944</td>\n",
       "      <td>0.159593</td>\n",
       "    </tr>\n",
       "    <tr>\n",
       "      <th>std</th>\n",
       "      <td>402.544106</td>\n",
       "      <td>1056.610377</td>\n",
       "      <td>33.185900</td>\n",
       "      <td>128.839832</td>\n",
       "      <td>0.268555</td>\n",
       "      <td>0.483701</td>\n",
       "      <td>1.220269</td>\n",
       "      <td>2.989538</td>\n",
       "      <td>0.366539</td>\n",
       "    </tr>\n",
       "    <tr>\n",
       "      <th>min</th>\n",
       "      <td>0.000000</td>\n",
       "      <td>4.000000</td>\n",
       "      <td>0.000000</td>\n",
       "      <td>0.000000</td>\n",
       "      <td>0.000000</td>\n",
       "      <td>0.000000</td>\n",
       "      <td>0.000000</td>\n",
       "      <td>5.000000</td>\n",
       "      <td>0.000000</td>\n",
       "    </tr>\n",
       "    <tr>\n",
       "      <th>25%</th>\n",
       "      <td>142.000000</td>\n",
       "      <td>291.000000</td>\n",
       "      <td>0.000000</td>\n",
       "      <td>3.000000</td>\n",
       "      <td>1.000000</td>\n",
       "      <td>0.000000</td>\n",
       "      <td>0.000000</td>\n",
       "      <td>9.000000</td>\n",
       "      <td>0.000000</td>\n",
       "    </tr>\n",
       "    <tr>\n",
       "      <th>50%</th>\n",
       "      <td>304.000000</td>\n",
       "      <td>490.000000</td>\n",
       "      <td>1.000000</td>\n",
       "      <td>18.000000</td>\n",
       "      <td>1.000000</td>\n",
       "      <td>1.000000</td>\n",
       "      <td>0.000000</td>\n",
       "      <td>11.000000</td>\n",
       "      <td>0.000000</td>\n",
       "    </tr>\n",
       "    <tr>\n",
       "      <th>75%</th>\n",
       "      <td>492.000000</td>\n",
       "      <td>830.000000</td>\n",
       "      <td>29.000000</td>\n",
       "      <td>74.000000</td>\n",
       "      <td>1.000000</td>\n",
       "      <td>1.000000</td>\n",
       "      <td>0.000000</td>\n",
       "      <td>13.000000</td>\n",
       "      <td>0.000000</td>\n",
       "    </tr>\n",
       "    <tr>\n",
       "      <th>max</th>\n",
       "      <td>4492.000000</td>\n",
       "      <td>7497.000000</td>\n",
       "      <td>150.000000</td>\n",
       "      <td>1058.000000</td>\n",
       "      <td>1.000000</td>\n",
       "      <td>1.000000</td>\n",
       "      <td>7.000000</td>\n",
       "      <td>30.000000</td>\n",
       "      <td>1.000000</td>\n",
       "    </tr>\n",
       "  </tbody>\n",
       "</table>\n",
       "</div>"
      ],
      "text/plain": [
       "       userFollowerCount  userFollowingCount  userBiographyLength  \\\n",
       "count         589.000000          589.000000           589.000000   \n",
       "mean          378.877759          807.663837            20.925297   \n",
       "std           402.544106         1056.610377            33.185900   \n",
       "min             0.000000            4.000000             0.000000   \n",
       "25%           142.000000          291.000000             0.000000   \n",
       "50%           304.000000          490.000000             1.000000   \n",
       "75%           492.000000          830.000000            29.000000   \n",
       "max          4492.000000         7497.000000           150.000000   \n",
       "\n",
       "       userMediaCount  userHasProfilPic  userIsPrivate  usernameDigitCount  \\\n",
       "count      589.000000        589.000000     589.000000          589.000000   \n",
       "mean        67.005093          0.921902       0.628183            0.553480   \n",
       "std        128.839832          0.268555       0.483701            1.220269   \n",
       "min          0.000000          0.000000       0.000000            0.000000   \n",
       "25%          3.000000          1.000000       0.000000            0.000000   \n",
       "50%         18.000000          1.000000       1.000000            0.000000   \n",
       "75%         74.000000          1.000000       1.000000            0.000000   \n",
       "max       1058.000000          1.000000       1.000000            7.000000   \n",
       "\n",
       "       usernameLength      isFake  \n",
       "count      589.000000  589.000000  \n",
       "mean        11.196944    0.159593  \n",
       "std          2.989538    0.366539  \n",
       "min          5.000000    0.000000  \n",
       "25%          9.000000    0.000000  \n",
       "50%         11.000000    0.000000  \n",
       "75%         13.000000    0.000000  \n",
       "max         30.000000    1.000000  "
      ]
     },
     "execution_count": 528,
     "metadata": {},
     "output_type": "execute_result"
    }
   ],
   "source": [
    "instagram_df_train.describe()"
   ]
  },
  {
   "cell_type": "code",
   "execution_count": 529,
   "id": "6d6a32cb",
   "metadata": {},
   "outputs": [
    {
     "data": {
      "text/plain": [
       "userFollowerCount      0\n",
       "userFollowingCount     0\n",
       "userBiographyLength    0\n",
       "userMediaCount         0\n",
       "userHasProfilPic       0\n",
       "userIsPrivate          0\n",
       "usernameDigitCount     0\n",
       "usernameLength         0\n",
       "isFake                 0\n",
       "dtype: int64"
      ]
     },
     "execution_count": 529,
     "metadata": {},
     "output_type": "execute_result"
    }
   ],
   "source": [
    "instagram_df_train.isnull().sum()"
   ]
  },
  {
   "cell_type": "code",
   "execution_count": 530,
   "id": "3cb314db",
   "metadata": {},
   "outputs": [
    {
     "data": {
      "text/plain": [
       "1    543\n",
       "0     46\n",
       "Name: userHasProfilPic, dtype: int64"
      ]
     },
     "execution_count": 530,
     "metadata": {},
     "output_type": "execute_result"
    }
   ],
   "source": [
    "instagram_df_train['userHasProfilPic'].value_counts()"
   ]
  },
  {
   "cell_type": "code",
   "execution_count": 531,
   "id": "62b0cdb0",
   "metadata": {},
   "outputs": [
    {
     "data": {
      "text/plain": [
       "87"
      ]
     },
     "execution_count": 531,
     "metadata": {},
     "output_type": "execute_result"
    }
   ],
   "source": [
    "(instagram_df_train['userBiographyLength'] > 50).sum()"
   ]
  },
  {
   "cell_type": "code",
   "execution_count": 532,
   "id": "a52b6e77",
   "metadata": {},
   "outputs": [
    {
     "name": "stdout",
     "output_type": "stream",
     "text": [
      "<class 'pandas.core.frame.DataFrame'>\n",
      "RangeIndex: 605 entries, 0 to 604\n",
      "Data columns (total 9 columns):\n",
      " #   Column               Non-Null Count  Dtype\n",
      "---  ------               --------------  -----\n",
      " 0   userFollowerCount    605 non-null    int64\n",
      " 1   userFollowingCount   605 non-null    int64\n",
      " 2   userBiographyLength  605 non-null    int64\n",
      " 3   userMediaCount       605 non-null    int64\n",
      " 4   userHasProfilPic     605 non-null    int64\n",
      " 5   userIsPrivate        605 non-null    int64\n",
      " 6   usernameDigitCount   605 non-null    int64\n",
      " 7   usernameLength       605 non-null    int64\n",
      " 8   isFake               605 non-null    int64\n",
      "dtypes: int64(9)\n",
      "memory usage: 42.7 KB\n"
     ]
    }
   ],
   "source": [
    "instagram_df_test.info()"
   ]
  },
  {
   "cell_type": "code",
   "execution_count": 533,
   "id": "12b8b4c1",
   "metadata": {},
   "outputs": [
    {
     "data": {
      "text/html": [
       "<div>\n",
       "<style scoped>\n",
       "    .dataframe tbody tr th:only-of-type {\n",
       "        vertical-align: middle;\n",
       "    }\n",
       "\n",
       "    .dataframe tbody tr th {\n",
       "        vertical-align: top;\n",
       "    }\n",
       "\n",
       "    .dataframe thead th {\n",
       "        text-align: right;\n",
       "    }\n",
       "</style>\n",
       "<table border=\"1\" class=\"dataframe\">\n",
       "  <thead>\n",
       "    <tr style=\"text-align: right;\">\n",
       "      <th></th>\n",
       "      <th>userFollowerCount</th>\n",
       "      <th>userFollowingCount</th>\n",
       "      <th>userBiographyLength</th>\n",
       "      <th>userMediaCount</th>\n",
       "      <th>userHasProfilPic</th>\n",
       "      <th>userIsPrivate</th>\n",
       "      <th>usernameDigitCount</th>\n",
       "      <th>usernameLength</th>\n",
       "      <th>isFake</th>\n",
       "    </tr>\n",
       "  </thead>\n",
       "  <tbody>\n",
       "    <tr>\n",
       "      <th>count</th>\n",
       "      <td>605.000000</td>\n",
       "      <td>605.000000</td>\n",
       "      <td>605.000000</td>\n",
       "      <td>605.000000</td>\n",
       "      <td>605.000000</td>\n",
       "      <td>605.00000</td>\n",
       "      <td>605.000000</td>\n",
       "      <td>605.000000</td>\n",
       "      <td>605.000000</td>\n",
       "    </tr>\n",
       "    <tr>\n",
       "      <th>mean</th>\n",
       "      <td>359.571901</td>\n",
       "      <td>682.535537</td>\n",
       "      <td>24.719008</td>\n",
       "      <td>48.436364</td>\n",
       "      <td>0.923967</td>\n",
       "      <td>0.68595</td>\n",
       "      <td>0.439669</td>\n",
       "      <td>11.052893</td>\n",
       "      <td>0.175207</td>\n",
       "    </tr>\n",
       "    <tr>\n",
       "      <th>std</th>\n",
       "      <td>341.378153</td>\n",
       "      <td>1005.563336</td>\n",
       "      <td>33.711186</td>\n",
       "      <td>80.334491</td>\n",
       "      <td>0.265270</td>\n",
       "      <td>0.46452</td>\n",
       "      <td>1.202266</td>\n",
       "      <td>3.007250</td>\n",
       "      <td>0.380458</td>\n",
       "    </tr>\n",
       "    <tr>\n",
       "      <th>min</th>\n",
       "      <td>0.000000</td>\n",
       "      <td>0.000000</td>\n",
       "      <td>0.000000</td>\n",
       "      <td>0.000000</td>\n",
       "      <td>0.000000</td>\n",
       "      <td>0.00000</td>\n",
       "      <td>0.000000</td>\n",
       "      <td>5.000000</td>\n",
       "      <td>0.000000</td>\n",
       "    </tr>\n",
       "    <tr>\n",
       "      <th>25%</th>\n",
       "      <td>165.000000</td>\n",
       "      <td>256.000000</td>\n",
       "      <td>0.000000</td>\n",
       "      <td>3.000000</td>\n",
       "      <td>1.000000</td>\n",
       "      <td>0.00000</td>\n",
       "      <td>0.000000</td>\n",
       "      <td>9.000000</td>\n",
       "      <td>0.000000</td>\n",
       "    </tr>\n",
       "    <tr>\n",
       "      <th>50%</th>\n",
       "      <td>304.000000</td>\n",
       "      <td>416.000000</td>\n",
       "      <td>12.000000</td>\n",
       "      <td>21.000000</td>\n",
       "      <td>1.000000</td>\n",
       "      <td>1.00000</td>\n",
       "      <td>0.000000</td>\n",
       "      <td>11.000000</td>\n",
       "      <td>0.000000</td>\n",
       "    </tr>\n",
       "    <tr>\n",
       "      <th>75%</th>\n",
       "      <td>473.000000</td>\n",
       "      <td>636.000000</td>\n",
       "      <td>36.000000</td>\n",
       "      <td>60.000000</td>\n",
       "      <td>1.000000</td>\n",
       "      <td>1.00000</td>\n",
       "      <td>0.000000</td>\n",
       "      <td>13.000000</td>\n",
       "      <td>0.000000</td>\n",
       "    </tr>\n",
       "    <tr>\n",
       "      <th>max</th>\n",
       "      <td>3257.000000</td>\n",
       "      <td>7493.000000</td>\n",
       "      <td>150.000000</td>\n",
       "      <td>807.000000</td>\n",
       "      <td>1.000000</td>\n",
       "      <td>1.00000</td>\n",
       "      <td>10.000000</td>\n",
       "      <td>22.000000</td>\n",
       "      <td>1.000000</td>\n",
       "    </tr>\n",
       "  </tbody>\n",
       "</table>\n",
       "</div>"
      ],
      "text/plain": [
       "       userFollowerCount  userFollowingCount  userBiographyLength  \\\n",
       "count         605.000000          605.000000           605.000000   \n",
       "mean          359.571901          682.535537            24.719008   \n",
       "std           341.378153         1005.563336            33.711186   \n",
       "min             0.000000            0.000000             0.000000   \n",
       "25%           165.000000          256.000000             0.000000   \n",
       "50%           304.000000          416.000000            12.000000   \n",
       "75%           473.000000          636.000000            36.000000   \n",
       "max          3257.000000         7493.000000           150.000000   \n",
       "\n",
       "       userMediaCount  userHasProfilPic  userIsPrivate  usernameDigitCount  \\\n",
       "count      605.000000        605.000000      605.00000          605.000000   \n",
       "mean        48.436364          0.923967        0.68595            0.439669   \n",
       "std         80.334491          0.265270        0.46452            1.202266   \n",
       "min          0.000000          0.000000        0.00000            0.000000   \n",
       "25%          3.000000          1.000000        0.00000            0.000000   \n",
       "50%         21.000000          1.000000        1.00000            0.000000   \n",
       "75%         60.000000          1.000000        1.00000            0.000000   \n",
       "max        807.000000          1.000000        1.00000           10.000000   \n",
       "\n",
       "       usernameLength      isFake  \n",
       "count      605.000000  605.000000  \n",
       "mean        11.052893    0.175207  \n",
       "std          3.007250    0.380458  \n",
       "min          5.000000    0.000000  \n",
       "25%          9.000000    0.000000  \n",
       "50%         11.000000    0.000000  \n",
       "75%         13.000000    0.000000  \n",
       "max         22.000000    1.000000  "
      ]
     },
     "execution_count": 533,
     "metadata": {},
     "output_type": "execute_result"
    }
   ],
   "source": [
    "instagram_df_test.describe()"
   ]
  },
  {
   "cell_type": "code",
   "execution_count": 534,
   "id": "25d9f6ef",
   "metadata": {},
   "outputs": [
    {
     "data": {
      "text/plain": [
       "userFollowerCount      0\n",
       "userFollowingCount     0\n",
       "userBiographyLength    0\n",
       "userMediaCount         0\n",
       "userHasProfilPic       0\n",
       "userIsPrivate          0\n",
       "usernameDigitCount     0\n",
       "usernameLength         0\n",
       "isFake                 0\n",
       "dtype: int64"
      ]
     },
     "execution_count": 534,
     "metadata": {},
     "output_type": "execute_result"
    }
   ],
   "source": [
    "instagram_df_test.isnull().sum()"
   ]
  },
  {
   "cell_type": "code",
   "execution_count": 535,
   "id": "2e0837f5",
   "metadata": {},
   "outputs": [
    {
     "data": {
      "text/plain": [
       "0    499\n",
       "1    106\n",
       "Name: isFake, dtype: int64"
      ]
     },
     "execution_count": 535,
     "metadata": {},
     "output_type": "execute_result"
    }
   ],
   "source": [
    "instagram_df_test['isFake'].value_counts()"
   ]
  },
  {
   "cell_type": "code",
   "execution_count": 536,
   "id": "6b987e12",
   "metadata": {},
   "outputs": [
    {
     "name": "stderr",
     "output_type": "stream",
     "text": [
      "C:\\Users\\yashu\\anaconda3\\lib\\site-packages\\seaborn\\_decorators.py:36: FutureWarning: Pass the following variable as a keyword arg: x. From version 0.12, the only valid positional argument will be `data`, and passing other arguments without an explicit keyword will result in an error or misinterpretation.\n",
      "  warnings.warn(\n"
     ]
    },
    {
     "data": {
      "text/plain": [
       "<AxesSubplot:xlabel='isFake', ylabel='count'>"
      ]
     },
     "execution_count": 536,
     "metadata": {},
     "output_type": "execute_result"
    },
    {
     "data": {
      "image/png": "[encoded data removed]",
      "text/plain": [
       "<Figure size 576x504 with 1 Axes>"
      ]
     },
     "metadata": {},
     "output_type": "display_data"
    }
   ],
   "source": [
    "sns.countplot(instagram_df_train['isFake'])\n"
   ]
  },
  {
   "cell_type": "code",
   "execution_count": 537,
   "id": "e357507e",
   "metadata": {},
   "outputs": [
    {
     "name": "stderr",
     "output_type": "stream",
     "text": [
      "C:\\Users\\yashu\\anaconda3\\lib\\site-packages\\seaborn\\_decorators.py:36: FutureWarning: Pass the following variable as a keyword arg: x. From version 0.12, the only valid positional argument will be `data`, and passing other arguments without an explicit keyword will result in an error or misinterpretation.\n",
      "  warnings.warn(\n"
     ]
    },
    {
     "data": {
      "text/plain": [
       "<AxesSubplot:xlabel='userIsPrivate', ylabel='count'>"
      ]
     },
     "execution_count": 537,
     "metadata": {},
     "output_type": "execute_result"
    },
    {
     "data": {
      "image/png": "[encoded data removed]",
      "text/plain": [
       "<Figure size 576x504 with 1 Axes>"
      ]
     },
     "metadata": {},
     "output_type": "display_data"
    }
   ],
   "source": [
    "sns.countplot(instagram_df_train['userIsPrivate'],palette = \"PuBu\")"
   ]
  },
  {
   "cell_type": "code",
   "execution_count": 538,
   "id": "ed950df5",
   "metadata": {},
   "outputs": [
    {
     "name": "stderr",
     "output_type": "stream",
     "text": [
      "C:\\Users\\yashu\\anaconda3\\lib\\site-packages\\seaborn\\_decorators.py:36: FutureWarning: Pass the following variable as a keyword arg: x. From version 0.12, the only valid positional argument will be `data`, and passing other arguments without an explicit keyword will result in an error or misinterpretation.\n",
      "  warnings.warn(\n"
     ]
    },
    {
     "data": {
      "text/plain": [
       "<AxesSubplot:xlabel='userHasProfilPic', ylabel='count'>"
      ]
     },
     "execution_count": 538,
     "metadata": {},
     "output_type": "execute_result"
    },
    {
     "data": {
      "image/png": "[encoded data removed]",
      "text/plain": [
       "<Figure size 576x504 with 1 Axes>"
      ]
     },
     "metadata": {},
     "output_type": "display_data"
    }
   ],
   "source": [
    "sns.countplot(instagram_df_train['userHasProfilPic'],palette = \"Pastel2\")"
   ]
  },
  {
   "cell_type": "code",
   "execution_count": 539,
   "id": "adbd8efe",
   "metadata": {},
   "outputs": [
    {
     "name": "stderr",
     "output_type": "stream",
     "text": [
      "C:\\Users\\yashu\\anaconda3\\lib\\site-packages\\seaborn\\distributions.py:2619: FutureWarning: `distplot` is a deprecated function and will be removed in a future version. Please adapt your code to use either `displot` (a figure-level function with similar flexibility) or `histplot` (an axes-level function for histograms).\n",
      "  warnings.warn(msg, FutureWarning)\n"
     ]
    },
    {
     "data": {
      "text/plain": [
       "<AxesSubplot:xlabel='usernameLength', ylabel='Density'>"
      ]
     },
     "execution_count": 539,
     "metadata": {},
     "output_type": "execute_result"
    },
    {
     "data": {
      "image/png": "[encoded data removed]",
      "text/plain": [
       "<Figure size 1440x720 with 1 Axes>"
      ]
     },
     "metadata": {},
     "output_type": "display_data"
    }
   ],
   "source": [
    "plt.figure(figsize = (20, 10))\n",
    "sns.distplot(instagram_df_train['usernameLength'],kde=True)"
   ]
  },
  {
   "cell_type": "code",
   "execution_count": 540,
   "id": "db62b565",
   "metadata": {},
   "outputs": [
    {
     "data": {
      "text/plain": [
       "<AxesSubplot:>"
      ]
     },
     "execution_count": 540,
     "metadata": {},
     "output_type": "execute_result"
    },
    {
     "data": {
      "image/png": "[encoded data removed]",
      "text/plain": [
       "<Figure size 1080x1080 with 2 Axes>"
      ]
     },
     "metadata": {},
     "output_type": "display_data"
    }
   ],
   "source": [
    "plt.figure(figsize=(15,15))\n",
    "cm = instagram_df_train.corr()\n",
    "ax = plt.subplot()\n",
    "sns.heatmap(cm, annot = True, ax = ax)"
   ]
  },
  {
   "cell_type": "code",
   "execution_count": 541,
   "id": "5e00ead9",
   "metadata": {},
   "outputs": [
    {
     "name": "stderr",
     "output_type": "stream",
     "text": [
      "C:\\Users\\yashu\\anaconda3\\lib\\site-packages\\seaborn\\_decorators.py:36: FutureWarning: Pass the following variable as a keyword arg: x. From version 0.12, the only valid positional argument will be `data`, and passing other arguments without an explicit keyword will result in an error or misinterpretation.\n",
      "  warnings.warn(\n"
     ]
    },
    {
     "data": {
      "text/plain": [
       "<AxesSubplot:xlabel='isFake', ylabel='count'>"
      ]
     },
     "execution_count": 541,
     "metadata": {},
     "output_type": "execute_result"
    },
    {
     "data": {
      "image/png": "[encoded data removed]",
      "text/plain": [
       "<Figure size 576x504 with 1 Axes>"
      ]
     },
     "metadata": {},
     "output_type": "display_data"
    }
   ],
   "source": [
    "sns.countplot(instagram_df_test['isFake'])\n"
   ]
  },
  {
   "cell_type": "code",
   "execution_count": 542,
   "id": "34ac5be4",
   "metadata": {},
   "outputs": [
    {
     "name": "stderr",
     "output_type": "stream",
     "text": [
      "C:\\Users\\yashu\\anaconda3\\lib\\site-packages\\seaborn\\_decorators.py:36: FutureWarning: Pass the following variable as a keyword arg: x. From version 0.12, the only valid positional argument will be `data`, and passing other arguments without an explicit keyword will result in an error or misinterpretation.\n",
      "  warnings.warn(\n"
     ]
    },
    {
     "data": {
      "text/plain": [
       "<AxesSubplot:xlabel='userIsPrivate', ylabel='count'>"
      ]
     },
     "execution_count": 542,
     "metadata": {},
     "output_type": "execute_result"
    },
    {
     "data": {
      "image/png": "[encoded data removed]",
      "text/plain": [
       "<Figure size 576x504 with 1 Axes>"
      ]
     },
     "metadata": {},
     "output_type": "display_data"
    }
   ],
   "source": [
    "sns.countplot(instagram_df_test['userIsPrivate'],palette = \"Set2\")"
   ]
  },
  {
   "cell_type": "code",
   "execution_count": 543,
   "id": "06bf61cb",
   "metadata": {},
   "outputs": [
    {
     "name": "stderr",
     "output_type": "stream",
     "text": [
      "C:\\Users\\yashu\\anaconda3\\lib\\site-packages\\seaborn\\_decorators.py:36: FutureWarning: Pass the following variable as a keyword arg: x. From version 0.12, the only valid positional argument will be `data`, and passing other arguments without an explicit keyword will result in an error or misinterpretation.\n",
      "  warnings.warn(\n"
     ]
    },
    {
     "data": {
      "text/plain": [
       "<AxesSubplot:xlabel='userHasProfilPic', ylabel='count'>"
      ]
     },
     "execution_count": 543,
     "metadata": {},
     "output_type": "execute_result"
    },
    {
     "data": {
      "image/png": "[encoded data removed]",
      "text/plain": [
       "<Figure size 576x504 with 1 Axes>"
      ]
     },
     "metadata": {},
     "output_type": "display_data"
    }
   ],
   "source": [
    "sns.countplot(instagram_df_test['userHasProfilPic'])"
   ]
  },
  {
   "cell_type": "code",
   "execution_count": 544,
   "id": "d83c5a2d",
   "metadata": {},
   "outputs": [
    {
     "data": {
      "text/html": [
       "<div>\n",
       "<style scoped>\n",
       "    .dataframe tbody tr th:only-of-type {\n",
       "        vertical-align: middle;\n",
       "    }\n",
       "\n",
       "    .dataframe tbody tr th {\n",
       "        vertical-align: top;\n",
       "    }\n",
       "\n",
       "    .dataframe thead th {\n",
       "        text-align: right;\n",
       "    }\n",
       "</style>\n",
       "<table border=\"1\" class=\"dataframe\">\n",
       "  <thead>\n",
       "    <tr style=\"text-align: right;\">\n",
       "      <th></th>\n",
       "      <th>userFollowerCount</th>\n",
       "      <th>userFollowingCount</th>\n",
       "      <th>userBiographyLength</th>\n",
       "      <th>userMediaCount</th>\n",
       "      <th>userHasProfilPic</th>\n",
       "      <th>userIsPrivate</th>\n",
       "      <th>usernameDigitCount</th>\n",
       "      <th>usernameLength</th>\n",
       "    </tr>\n",
       "  </thead>\n",
       "  <tbody>\n",
       "    <tr>\n",
       "      <th>0</th>\n",
       "      <td>25</td>\n",
       "      <td>1937</td>\n",
       "      <td>0</td>\n",
       "      <td>0</td>\n",
       "      <td>1</td>\n",
       "      <td>1</td>\n",
       "      <td>0</td>\n",
       "      <td>10</td>\n",
       "    </tr>\n",
       "    <tr>\n",
       "      <th>1</th>\n",
       "      <td>324</td>\n",
       "      <td>4122</td>\n",
       "      <td>0</td>\n",
       "      <td>0</td>\n",
       "      <td>1</td>\n",
       "      <td>0</td>\n",
       "      <td>4</td>\n",
       "      <td>15</td>\n",
       "    </tr>\n",
       "    <tr>\n",
       "      <th>2</th>\n",
       "      <td>15</td>\n",
       "      <td>399</td>\n",
       "      <td>0</td>\n",
       "      <td>0</td>\n",
       "      <td>0</td>\n",
       "      <td>0</td>\n",
       "      <td>3</td>\n",
       "      <td>12</td>\n",
       "    </tr>\n",
       "    <tr>\n",
       "      <th>3</th>\n",
       "      <td>14</td>\n",
       "      <td>107</td>\n",
       "      <td>0</td>\n",
       "      <td>1</td>\n",
       "      <td>1</td>\n",
       "      <td>0</td>\n",
       "      <td>1</td>\n",
       "      <td>10</td>\n",
       "    </tr>\n",
       "    <tr>\n",
       "      <th>4</th>\n",
       "      <td>264</td>\n",
       "      <td>4651</td>\n",
       "      <td>0</td>\n",
       "      <td>0</td>\n",
       "      <td>1</td>\n",
       "      <td>0</td>\n",
       "      <td>0</td>\n",
       "      <td>14</td>\n",
       "    </tr>\n",
       "    <tr>\n",
       "      <th>...</th>\n",
       "      <td>...</td>\n",
       "      <td>...</td>\n",
       "      <td>...</td>\n",
       "      <td>...</td>\n",
       "      <td>...</td>\n",
       "      <td>...</td>\n",
       "      <td>...</td>\n",
       "      <td>...</td>\n",
       "    </tr>\n",
       "    <tr>\n",
       "      <th>584</th>\n",
       "      <td>239</td>\n",
       "      <td>1134</td>\n",
       "      <td>145</td>\n",
       "      <td>9</td>\n",
       "      <td>1</td>\n",
       "      <td>0</td>\n",
       "      <td>0</td>\n",
       "      <td>19</td>\n",
       "    </tr>\n",
       "    <tr>\n",
       "      <th>585</th>\n",
       "      <td>91</td>\n",
       "      <td>149</td>\n",
       "      <td>0</td>\n",
       "      <td>7</td>\n",
       "      <td>1</td>\n",
       "      <td>0</td>\n",
       "      <td>0</td>\n",
       "      <td>18</td>\n",
       "    </tr>\n",
       "    <tr>\n",
       "      <th>586</th>\n",
       "      <td>78</td>\n",
       "      <td>783</td>\n",
       "      <td>28</td>\n",
       "      <td>1</td>\n",
       "      <td>1</td>\n",
       "      <td>0</td>\n",
       "      <td>0</td>\n",
       "      <td>11</td>\n",
       "    </tr>\n",
       "    <tr>\n",
       "      <th>587</th>\n",
       "      <td>135</td>\n",
       "      <td>517</td>\n",
       "      <td>44</td>\n",
       "      <td>4</td>\n",
       "      <td>1</td>\n",
       "      <td>0</td>\n",
       "      <td>4</td>\n",
       "      <td>11</td>\n",
       "    </tr>\n",
       "    <tr>\n",
       "      <th>588</th>\n",
       "      <td>203</td>\n",
       "      <td>823</td>\n",
       "      <td>71</td>\n",
       "      <td>4</td>\n",
       "      <td>1</td>\n",
       "      <td>0</td>\n",
       "      <td>0</td>\n",
       "      <td>12</td>\n",
       "    </tr>\n",
       "  </tbody>\n",
       "</table>\n",
       "<p>589 rows × 8 columns</p>\n",
       "</div>"
      ],
      "text/plain": [
       "     userFollowerCount  userFollowingCount  userBiographyLength  \\\n",
       "0                   25                1937                    0   \n",
       "1                  324                4122                    0   \n",
       "2                   15                 399                    0   \n",
       "3                   14                 107                    0   \n",
       "4                  264                4651                    0   \n",
       "..                 ...                 ...                  ...   \n",
       "584                239                1134                  145   \n",
       "585                 91                 149                    0   \n",
       "586                 78                 783                   28   \n",
       "587                135                 517                   44   \n",
       "588                203                 823                   71   \n",
       "\n",
       "     userMediaCount  userHasProfilPic  userIsPrivate  usernameDigitCount  \\\n",
       "0                 0                 1              1                   0   \n",
       "1                 0                 1              0                   4   \n",
       "2                 0                 0              0                   3   \n",
       "3                 1                 1              0                   1   \n",
       "4                 0                 1              0                   0   \n",
       "..              ...               ...            ...                 ...   \n",
       "584               9                 1              0                   0   \n",
       "585               7                 1              0                   0   \n",
       "586               1                 1              0                   0   \n",
       "587               4                 1              0                   4   \n",
       "588               4                 1              0                   0   \n",
       "\n",
       "     usernameLength  \n",
       "0                10  \n",
       "1                15  \n",
       "2                12  \n",
       "3                10  \n",
       "4                14  \n",
       "..              ...  \n",
       "584              19  \n",
       "585              18  \n",
       "586              11  \n",
       "587              11  \n",
       "588              12  \n",
       "\n",
       "[589 rows x 8 columns]"
      ]
     },
     "execution_count": 544,
     "metadata": {},
     "output_type": "execute_result"
    }
   ],
   "source": [
    "x_train = instagram_df_train.drop(columns = ['isFake'])\n",
    "x_test = instagram_df_test.drop(columns = ['isFake'])\n",
    "x_train"
   ]
  },
  {
   "cell_type": "code",
   "execution_count": 545,
   "id": "f7d16195",
   "metadata": {},
   "outputs": [
    {
     "data": {
      "text/html": [
       "<div>\n",
       "<style scoped>\n",
       "    .dataframe tbody tr th:only-of-type {\n",
       "        vertical-align: middle;\n",
       "    }\n",
       "\n",
       "    .dataframe tbody tr th {\n",
       "        vertical-align: top;\n",
       "    }\n",
       "\n",
       "    .dataframe thead th {\n",
       "        text-align: right;\n",
       "    }\n",
       "</style>\n",
       "<table border=\"1\" class=\"dataframe\">\n",
       "  <thead>\n",
       "    <tr style=\"text-align: right;\">\n",
       "      <th></th>\n",
       "      <th>userFollowerCount</th>\n",
       "      <th>userFollowingCount</th>\n",
       "      <th>userBiographyLength</th>\n",
       "      <th>userMediaCount</th>\n",
       "      <th>userHasProfilPic</th>\n",
       "      <th>userIsPrivate</th>\n",
       "      <th>usernameDigitCount</th>\n",
       "      <th>usernameLength</th>\n",
       "    </tr>\n",
       "  </thead>\n",
       "  <tbody>\n",
       "    <tr>\n",
       "      <th>0</th>\n",
       "      <td>15</td>\n",
       "      <td>3949</td>\n",
       "      <td>0</td>\n",
       "      <td>0</td>\n",
       "      <td>0</td>\n",
       "      <td>0</td>\n",
       "      <td>2</td>\n",
       "      <td>13</td>\n",
       "    </tr>\n",
       "    <tr>\n",
       "      <th>1</th>\n",
       "      <td>26</td>\n",
       "      <td>3400</td>\n",
       "      <td>0</td>\n",
       "      <td>0</td>\n",
       "      <td>0</td>\n",
       "      <td>0</td>\n",
       "      <td>2</td>\n",
       "      <td>8</td>\n",
       "    </tr>\n",
       "    <tr>\n",
       "      <th>2</th>\n",
       "      <td>32</td>\n",
       "      <td>3921</td>\n",
       "      <td>70</td>\n",
       "      <td>0</td>\n",
       "      <td>1</td>\n",
       "      <td>0</td>\n",
       "      <td>2</td>\n",
       "      <td>11</td>\n",
       "    </tr>\n",
       "    <tr>\n",
       "      <th>3</th>\n",
       "      <td>34</td>\n",
       "      <td>7158</td>\n",
       "      <td>0</td>\n",
       "      <td>0</td>\n",
       "      <td>0</td>\n",
       "      <td>0</td>\n",
       "      <td>1</td>\n",
       "      <td>10</td>\n",
       "    </tr>\n",
       "    <tr>\n",
       "      <th>4</th>\n",
       "      <td>47</td>\n",
       "      <td>3999</td>\n",
       "      <td>129</td>\n",
       "      <td>0</td>\n",
       "      <td>1</td>\n",
       "      <td>1</td>\n",
       "      <td>0</td>\n",
       "      <td>12</td>\n",
       "    </tr>\n",
       "    <tr>\n",
       "      <th>...</th>\n",
       "      <td>...</td>\n",
       "      <td>...</td>\n",
       "      <td>...</td>\n",
       "      <td>...</td>\n",
       "      <td>...</td>\n",
       "      <td>...</td>\n",
       "      <td>...</td>\n",
       "      <td>...</td>\n",
       "    </tr>\n",
       "    <tr>\n",
       "      <th>600</th>\n",
       "      <td>270</td>\n",
       "      <td>493</td>\n",
       "      <td>0</td>\n",
       "      <td>0</td>\n",
       "      <td>1</td>\n",
       "      <td>0</td>\n",
       "      <td>0</td>\n",
       "      <td>13</td>\n",
       "    </tr>\n",
       "    <tr>\n",
       "      <th>601</th>\n",
       "      <td>427</td>\n",
       "      <td>981</td>\n",
       "      <td>20</td>\n",
       "      <td>95</td>\n",
       "      <td>1</td>\n",
       "      <td>1</td>\n",
       "      <td>2</td>\n",
       "      <td>13</td>\n",
       "    </tr>\n",
       "    <tr>\n",
       "      <th>602</th>\n",
       "      <td>386</td>\n",
       "      <td>482</td>\n",
       "      <td>32</td>\n",
       "      <td>48</td>\n",
       "      <td>1</td>\n",
       "      <td>1</td>\n",
       "      <td>0</td>\n",
       "      <td>7</td>\n",
       "    </tr>\n",
       "    <tr>\n",
       "      <th>603</th>\n",
       "      <td>65</td>\n",
       "      <td>67</td>\n",
       "      <td>79</td>\n",
       "      <td>116</td>\n",
       "      <td>1</td>\n",
       "      <td>0</td>\n",
       "      <td>0</td>\n",
       "      <td>8</td>\n",
       "    </tr>\n",
       "    <tr>\n",
       "      <th>604</th>\n",
       "      <td>315</td>\n",
       "      <td>363</td>\n",
       "      <td>26</td>\n",
       "      <td>0</td>\n",
       "      <td>1</td>\n",
       "      <td>0</td>\n",
       "      <td>0</td>\n",
       "      <td>8</td>\n",
       "    </tr>\n",
       "  </tbody>\n",
       "</table>\n",
       "<p>605 rows × 8 columns</p>\n",
       "</div>"
      ],
      "text/plain": [
       "     userFollowerCount  userFollowingCount  userBiographyLength  \\\n",
       "0                   15                3949                    0   \n",
       "1                   26                3400                    0   \n",
       "2                   32                3921                   70   \n",
       "3                   34                7158                    0   \n",
       "4                   47                3999                  129   \n",
       "..                 ...                 ...                  ...   \n",
       "600                270                 493                    0   \n",
       "601                427                 981                   20   \n",
       "602                386                 482                   32   \n",
       "603                 65                  67                   79   \n",
       "604                315                 363                   26   \n",
       "\n",
       "     userMediaCount  userHasProfilPic  userIsPrivate  usernameDigitCount  \\\n",
       "0                 0                 0              0                   2   \n",
       "1                 0                 0              0                   2   \n",
       "2                 0                 1              0                   2   \n",
       "3                 0                 0              0                   1   \n",
       "4                 0                 1              1                   0   \n",
       "..              ...               ...            ...                 ...   \n",
       "600               0                 1              0                   0   \n",
       "601              95                 1              1                   2   \n",
       "602              48                 1              1                   0   \n",
       "603             116                 1              0                   0   \n",
       "604               0                 1              0                   0   \n",
       "\n",
       "     usernameLength  \n",
       "0                13  \n",
       "1                 8  \n",
       "2                11  \n",
       "3                10  \n",
       "4                12  \n",
       "..              ...  \n",
       "600              13  \n",
       "601              13  \n",
       "602               7  \n",
       "603               8  \n",
       "604               8  \n",
       "\n",
       "[605 rows x 8 columns]"
      ]
     },
     "execution_count": 545,
     "metadata": {},
     "output_type": "execute_result"
    }
   ],
   "source": [
    "x_test"
   ]
  },
  {
   "cell_type": "code",
   "execution_count": 546,
   "id": "e3773f4c",
   "metadata": {},
   "outputs": [
    {
     "data": {
      "text/plain": [
       "0      1\n",
       "1      1\n",
       "2      1\n",
       "3      1\n",
       "4      1\n",
       "      ..\n",
       "584    0\n",
       "585    0\n",
       "586    0\n",
       "587    0\n",
       "588    0\n",
       "Name: isFake, Length: 589, dtype: int64"
      ]
     },
     "execution_count": 546,
     "metadata": {},
     "output_type": "execute_result"
    }
   ],
   "source": [
    "y_train = instagram_df_train['isFake']\n",
    "y_test = instagram_df_test['isFake']\n",
    "y_train"
   ]
  },
  {
   "cell_type": "code",
   "execution_count": 547,
   "id": "3e024170",
   "metadata": {},
   "outputs": [
    {
     "data": {
      "text/plain": [
       "0      1\n",
       "1      1\n",
       "2      1\n",
       "3      1\n",
       "4      1\n",
       "      ..\n",
       "600    0\n",
       "601    0\n",
       "602    0\n",
       "603    0\n",
       "604    0\n",
       "Name: isFake, Length: 605, dtype: int64"
      ]
     },
     "execution_count": 547,
     "metadata": {},
     "output_type": "execute_result"
    }
   ],
   "source": [
    "y_test"
   ]
  },
  {
   "cell_type": "code",
   "execution_count": 548,
   "id": "15d6f843",
   "metadata": {},
   "outputs": [],
   "source": [
    "from sklearn.preprocessing import StandardScaler, MinMaxScaler\n",
    "\n",
    "scaler_x = StandardScaler()\n",
    "X_train = scaler_x.fit_transform(x_train)\n",
    "X_test = scaler_x.transform(x_test)"
   ]
  },
  {
   "cell_type": "code",
   "execution_count": 549,
   "id": "77fd589c",
   "metadata": {},
   "outputs": [],
   "source": [
    "Y_train = tf.keras.utils.to_categorical(y_train, num_classes=2)\n",
    "Y_test = tf.keras.utils.to_categorical(y_test, num_classes=2)"
   ]
  },
  {
   "cell_type": "code",
   "execution_count": 550,
   "id": "7d35ac9f",
   "metadata": {},
   "outputs": [
    {
     "data": {
      "text/plain": [
       "((589, 8), (605, 8))"
      ]
     },
     "execution_count": 550,
     "metadata": {},
     "output_type": "execute_result"
    }
   ],
   "source": [
    "X_train.shape,X_test.shape"
   ]
  },
  {
   "cell_type": "code",
   "execution_count": 551,
   "id": "7dfef747",
   "metadata": {},
   "outputs": [
    {
     "data": {
      "text/plain": [
       "((589, 2), (605, 2))"
      ]
     },
     "execution_count": 551,
     "metadata": {},
     "output_type": "execute_result"
    }
   ],
   "source": [
    "Y_train.shape,Y_test.shape"
   ]
  },
  {
   "cell_type": "code",
   "execution_count": 552,
   "id": "e252e970",
   "metadata": {},
   "outputs": [
    {
     "data": {
      "text/plain": [
       "49.32998324958124"
      ]
     },
     "execution_count": 552,
     "metadata": {},
     "output_type": "execute_result"
    }
   ],
   "source": [
    "Training_data_percentage = len(X_train)/(len(X_train) + len(X_test) ) * 100\n",
    "Training_data_percentage"
   ]
  },
  {
   "cell_type": "code",
   "execution_count": 553,
   "id": "a2752c58",
   "metadata": {},
   "outputs": [
    {
     "data": {
      "text/plain": [
       "50.67001675041875"
      ]
     },
     "execution_count": 553,
     "metadata": {},
     "output_type": "execute_result"
    }
   ],
   "source": [
    "Testing_data_percentage = len(X_test)/(len(X_train) + len(X_test) ) * 100\n",
    "Testing_data_percentage"
   ]
  },
  {
   "cell_type": "code",
   "execution_count": 554,
   "id": "8faf80f7",
   "metadata": {},
   "outputs": [
    {
     "name": "stdout",
     "output_type": "stream",
     "text": [
      "Model: \"sequential_12\"\n",
      "_________________________________________________________________\n",
      "Layer (type)                 Output Shape              Param #   \n",
      "=================================================================\n",
      "dense_48 (Dense)             (None, 50)                450       \n",
      "_________________________________________________________________\n",
      "dropout_36 (Dropout)         (None, 50)                0         \n",
      "_________________________________________________________________\n",
      "dense_49 (Dense)             (None, 150)               7650      \n",
      "_________________________________________________________________\n",
      "dropout_37 (Dropout)         (None, 150)               0         \n",
      "_________________________________________________________________\n",
      "dense_50 (Dense)             (None, 25)                3775      \n",
      "_________________________________________________________________\n",
      "dropout_38 (Dropout)         (None, 25)                0         \n",
      "_________________________________________________________________\n",
      "dense_51 (Dense)             (None, 2)                 52        \n",
      "=================================================================\n",
      "Total params: 11,927\n",
      "Trainable params: 11,927\n",
      "Non-trainable params: 0\n",
      "_________________________________________________________________\n"
     ]
    }
   ],
   "source": [
    "import tensorflow.keras\n",
    "from tensorflow.keras.models import Sequential\n",
    "from tensorflow.keras.layers import Dense, Dropout\n",
    "\n",
    "#Building the main model***\n",
    "\n",
    "model = Sequential() \n",
    "model.add(Dense(50,input_dim = 8, activation = \"relu\")) #Initial Layer\n",
    "model.add(Dropout(0.3))\n",
    "model.add(Dense(150, activation = \"relu\"))\n",
    "model.add(Dropout(0.3))\n",
    "model.add(Dense(25, activation = \"relu\"))\n",
    "model.add(Dropout(0.3))\n",
    "model.add(Dense(2, activation = \"softmax\")) #output layer\n",
    "\n",
    "model.summary()"
   ]
  },
  {
   "cell_type": "code",
   "execution_count": 555,
   "id": "a5424176",
   "metadata": {},
   "outputs": [],
   "source": [
    "model.compile(optimizer = 'adam', loss = 'categorical_crossentropy', metrics = ['accuracy'])"
   ]
  },
  {
   "cell_type": "code",
   "execution_count": 556,
   "id": "cddb3386",
   "metadata": {},
   "outputs": [
    {
     "name": "stdout",
     "output_type": "stream",
     "text": [
      "Epoch 1/20\n",
      "17/17 [==============================] - 1s 10ms/step - loss: 0.6419 - accuracy: 0.6717 - val_loss: 0.3881 - val_accuracy: 0.9661\n",
      "Epoch 2/20\n",
      "17/17 [==============================] - 0s 3ms/step - loss: 0.4206 - accuracy: 0.8585 - val_loss: 0.2535 - val_accuracy: 0.9492\n",
      "Epoch 3/20\n",
      "17/17 [==============================] - 0s 3ms/step - loss: 0.3001 - accuracy: 0.8962 - val_loss: 0.2883 - val_accuracy: 0.9322\n",
      "Epoch 4/20\n",
      "17/17 [==============================] - 0s 3ms/step - loss: 0.2259 - accuracy: 0.9094 - val_loss: 0.2365 - val_accuracy: 0.9492\n",
      "Epoch 5/20\n",
      "17/17 [==============================] - 0s 3ms/step - loss: 0.2201 - accuracy: 0.9321 - val_loss: 0.2365 - val_accuracy: 0.9322\n",
      "Epoch 6/20\n",
      "17/17 [==============================] - 0s 3ms/step - loss: 0.2074 - accuracy: 0.9415 - val_loss: 0.2624 - val_accuracy: 0.9322\n",
      "Epoch 7/20\n",
      "17/17 [==============================] - 0s 3ms/step - loss: 0.1886 - accuracy: 0.9396 - val_loss: 0.2218 - val_accuracy: 0.9322\n",
      "Epoch 8/20\n",
      "17/17 [==============================] - 0s 3ms/step - loss: 0.1590 - accuracy: 0.9528 - val_loss: 0.1804 - val_accuracy: 0.9322\n",
      "Epoch 9/20\n",
      "17/17 [==============================] - 0s 3ms/step - loss: 0.1581 - accuracy: 0.9509 - val_loss: 0.1949 - val_accuracy: 0.9322\n",
      "Epoch 10/20\n",
      "17/17 [==============================] - 0s 3ms/step - loss: 0.1454 - accuracy: 0.9547 - val_loss: 0.1781 - val_accuracy: 0.9322\n",
      "Epoch 11/20\n",
      "17/17 [==============================] - 0s 3ms/step - loss: 0.1280 - accuracy: 0.9472 - val_loss: 0.2002 - val_accuracy: 0.9322\n",
      "Epoch 12/20\n",
      "17/17 [==============================] - 0s 3ms/step - loss: 0.1476 - accuracy: 0.9528 - val_loss: 0.1644 - val_accuracy: 0.9322\n",
      "Epoch 13/20\n",
      "17/17 [==============================] - 0s 2ms/step - loss: 0.1110 - accuracy: 0.9547 - val_loss: 0.1570 - val_accuracy: 0.9492\n",
      "Epoch 14/20\n",
      "17/17 [==============================] - 0s 3ms/step - loss: 0.1332 - accuracy: 0.9434 - val_loss: 0.1733 - val_accuracy: 0.9322\n",
      "Epoch 15/20\n",
      "17/17 [==============================] - 0s 3ms/step - loss: 0.1227 - accuracy: 0.9547 - val_loss: 0.1716 - val_accuracy: 0.9322\n",
      "Epoch 16/20\n",
      "17/17 [==============================] - 0s 3ms/step - loss: 0.1322 - accuracy: 0.9509 - val_loss: 0.1588 - val_accuracy: 0.9492\n",
      "Epoch 17/20\n",
      "17/17 [==============================] - 0s 3ms/step - loss: 0.1156 - accuracy: 0.9623 - val_loss: 0.1484 - val_accuracy: 0.9492\n",
      "Epoch 18/20\n",
      "17/17 [==============================] - 0s 3ms/step - loss: 0.1282 - accuracy: 0.9566 - val_loss: 0.1713 - val_accuracy: 0.9492\n",
      "Epoch 19/20\n",
      "17/17 [==============================] - 0s 3ms/step - loss: 0.1338 - accuracy: 0.9642 - val_loss: 0.1707 - val_accuracy: 0.9492\n",
      "Epoch 20/20\n",
      "17/17 [==============================] - 0s 3ms/step - loss: 0.1259 - accuracy: 0.9623 - val_loss: 0.1626 - val_accuracy: 0.9322\n"
     ]
    }
   ],
   "source": [
    "epochs_hist = model.fit(X_train, Y_train, epochs = 20, verbose = 1, validation_split = 0.1)"
   ]
  },
  {
   "cell_type": "code",
   "execution_count": 557,
   "id": "0aa15bb0",
   "metadata": {},
   "outputs": [
    {
     "name": "stdout",
     "output_type": "stream",
     "text": [
      "dict_keys(['loss', 'accuracy', 'val_loss', 'val_accuracy'])\n"
     ]
    }
   ],
   "source": [
    "print(epochs_hist.history.keys())"
   ]
  },
  {
   "cell_type": "code",
   "execution_count": 558,
   "id": "912c3735",
   "metadata": {},
   "outputs": [
    {
     "data": {
      "text/plain": [
       "<matplotlib.legend.Legend at 0x24cb463bd60>"
      ]
     },
     "execution_count": 558,
     "metadata": {},
     "output_type": "execute_result"
    },
    {
     "data": {
      "image/png": "[encoded data removed]",
      "text/plain": [
       "<Figure size 576x504 with 1 Axes>"
      ]
     },
     "metadata": {},
     "output_type": "display_data"
    }
   ],
   "source": [
    "plt.plot(epochs_hist.history['loss'])\n",
    "plt.plot(epochs_hist.history['val_loss'])\n",
    "\n",
    "plt.title('Model Loss Progressioin During Training/Validation')\n",
    "plt.xlabel('Epoch Number')\n",
    "plt.ylabel('Training and Validation Losses')\n",
    "plt.legend(['Training Loss','Valdiation Loss'])"
   ]
  },
  {
   "cell_type": "code",
   "execution_count": 559,
   "id": "c3d7201b",
   "metadata": {},
   "outputs": [],
   "source": [
    "predicted = model.predict(X_test)"
   ]
  },
  {
   "cell_type": "code",
   "execution_count": 560,
   "id": "25c927f3",
   "metadata": {},
   "outputs": [],
   "source": [
    "predicted_value = []\n",
    "test = []\n",
    "for i in predicted:\n",
    "    predicted_value.append(np.argmax(i))\n",
    "\n",
    "for i in Y_test:\n",
    "    test.append(np.argmax(i))"
   ]
  },
  {
   "cell_type": "code",
   "execution_count": 561,
   "id": "3d5e10ac",
   "metadata": {},
   "outputs": [
    {
     "name": "stdout",
     "output_type": "stream",
     "text": [
      "              precision    recall  f1-score   support\n",
      "\n",
      "           0       0.94      0.98      0.96       499\n",
      "           1       0.90      0.70      0.79       106\n",
      "\n",
      "    accuracy                           0.93       605\n",
      "   macro avg       0.92      0.84      0.87       605\n",
      "weighted avg       0.93      0.93      0.93       605\n",
      "\n"
     ]
    }
   ],
   "source": [
    "print(classification_report(test, predicted_value))"
   ]
  },
  {
   "cell_type": "code",
   "execution_count": 562,
   "id": "b5d59e60",
   "metadata": {},
   "outputs": [
    {
     "data": {
      "text/plain": [
       "<AxesSubplot:>"
      ]
     },
     "execution_count": 562,
     "metadata": {},
     "output_type": "execute_result"
    },
    {
     "data": {
      "image/png": "[encoded data removed]",
      "text/plain": [
       "<Figure size 720x720 with 2 Axes>"
      ]
     },
     "metadata": {},
     "output_type": "display_data"
    }
   ],
   "source": [
    "plt.figure(figsize=(10, 10))\n",
    "con_matrix = confusion_matrix(test,predicted_value)\n",
    "sns.heatmap(con_matrix, annot=True)"
   ]
  }
 ],
 "metadata": {
  "kernelspec": {
   "display_name": "Python 3 (ipykernel)",
   "language": "python",
   "name": "python3"
  },
  "language_info": {
   "codemirror_mode": {
    "name": "ipython",
    "version": 3
   },
   "file_extension": ".py",
   "mimetype": "text/x-python",
   "name": "python",
   "nbconvert_exporter": "python",
   "pygments_lexer": "ipython3",
   "version": "3.9.12"
  }
 },
 "nbformat": 4,
 "nbformat_minor": 5
}
